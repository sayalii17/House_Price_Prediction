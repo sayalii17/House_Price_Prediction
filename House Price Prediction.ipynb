{
 "cells": [
  {
   "cell_type": "markdown",
   "id": "c6c578b8",
   "metadata": {},
   "source": [
    "# Machine Learning model to predict House Price using Linear Regression."
   ]
  },
  {
   "cell_type": "code",
   "execution_count": 22,
   "id": "a4c5c98e",
   "metadata": {},
   "outputs": [],
   "source": [
    "# Importing Packages\n",
    "\n",
    "import numpy as np\n",
    "import pandas as pd\n",
    "from sklearn.model_selection import train_test_split\n",
    "from sklearn.linear_model import LinearRegression\n",
    "from sklearn.metrics import r2_score \n",
    "import matplotlib.pyplot as plt"
   ]
  },
  {
   "cell_type": "code",
   "execution_count": 23,
   "id": "e765129f",
   "metadata": {},
   "outputs": [
    {
     "data": {
      "text/plain": [
       "Id                  0\n",
       "price               0\n",
       "area                0\n",
       "bedrooms            0\n",
       "bathrooms           0\n",
       "stories             0\n",
       "mainroad            0\n",
       "guestroom           0\n",
       "basement            0\n",
       "hotwaterheating     0\n",
       "airconditioning     0\n",
       "parking             0\n",
       "prefarea            0\n",
       "furnishingstatus    0\n",
       "dtype: int64"
      ]
     },
     "execution_count": 23,
     "metadata": {},
     "output_type": "execute_result"
    }
   ],
   "source": [
    "# Read the house price dataset and check for null data\n",
    "\n",
    "df= pd.read_csv(\"Housing.csv\")\n",
    "df.isnull().sum()"
   ]
  },
  {
   "cell_type": "code",
   "execution_count": 24,
   "id": "974918b0",
   "metadata": {},
   "outputs": [
    {
     "data": {
      "text/html": [
       "<div>\n",
       "<style scoped>\n",
       "    .dataframe tbody tr th:only-of-type {\n",
       "        vertical-align: middle;\n",
       "    }\n",
       "\n",
       "    .dataframe tbody tr th {\n",
       "        vertical-align: top;\n",
       "    }\n",
       "\n",
       "    .dataframe thead th {\n",
       "        text-align: right;\n",
       "    }\n",
       "</style>\n",
       "<table border=\"1\" class=\"dataframe\">\n",
       "  <thead>\n",
       "    <tr style=\"text-align: right;\">\n",
       "      <th></th>\n",
       "      <th>Id</th>\n",
       "      <th>price</th>\n",
       "      <th>area</th>\n",
       "      <th>bedrooms</th>\n",
       "      <th>bathrooms</th>\n",
       "      <th>stories</th>\n",
       "      <th>mainroad</th>\n",
       "      <th>guestroom</th>\n",
       "      <th>basement</th>\n",
       "      <th>hotwaterheating</th>\n",
       "      <th>airconditioning</th>\n",
       "      <th>parking</th>\n",
       "      <th>prefarea</th>\n",
       "      <th>furnishingstatus</th>\n",
       "    </tr>\n",
       "  </thead>\n",
       "  <tbody>\n",
       "    <tr>\n",
       "      <th>0</th>\n",
       "      <td>1001</td>\n",
       "      <td>13300000</td>\n",
       "      <td>7420</td>\n",
       "      <td>4</td>\n",
       "      <td>2</td>\n",
       "      <td>3</td>\n",
       "      <td>yes</td>\n",
       "      <td>no</td>\n",
       "      <td>no</td>\n",
       "      <td>no</td>\n",
       "      <td>yes</td>\n",
       "      <td>2</td>\n",
       "      <td>yes</td>\n",
       "      <td>furnished</td>\n",
       "    </tr>\n",
       "    <tr>\n",
       "      <th>1</th>\n",
       "      <td>1002</td>\n",
       "      <td>12250000</td>\n",
       "      <td>8960</td>\n",
       "      <td>4</td>\n",
       "      <td>4</td>\n",
       "      <td>4</td>\n",
       "      <td>yes</td>\n",
       "      <td>no</td>\n",
       "      <td>no</td>\n",
       "      <td>no</td>\n",
       "      <td>yes</td>\n",
       "      <td>3</td>\n",
       "      <td>no</td>\n",
       "      <td>furnished</td>\n",
       "    </tr>\n",
       "    <tr>\n",
       "      <th>2</th>\n",
       "      <td>1003</td>\n",
       "      <td>12250000</td>\n",
       "      <td>9960</td>\n",
       "      <td>3</td>\n",
       "      <td>2</td>\n",
       "      <td>2</td>\n",
       "      <td>yes</td>\n",
       "      <td>no</td>\n",
       "      <td>yes</td>\n",
       "      <td>no</td>\n",
       "      <td>no</td>\n",
       "      <td>2</td>\n",
       "      <td>yes</td>\n",
       "      <td>semi-furnished</td>\n",
       "    </tr>\n",
       "    <tr>\n",
       "      <th>3</th>\n",
       "      <td>1004</td>\n",
       "      <td>12215000</td>\n",
       "      <td>7500</td>\n",
       "      <td>4</td>\n",
       "      <td>2</td>\n",
       "      <td>2</td>\n",
       "      <td>yes</td>\n",
       "      <td>no</td>\n",
       "      <td>yes</td>\n",
       "      <td>no</td>\n",
       "      <td>yes</td>\n",
       "      <td>3</td>\n",
       "      <td>yes</td>\n",
       "      <td>furnished</td>\n",
       "    </tr>\n",
       "    <tr>\n",
       "      <th>4</th>\n",
       "      <td>1005</td>\n",
       "      <td>11410000</td>\n",
       "      <td>7420</td>\n",
       "      <td>4</td>\n",
       "      <td>1</td>\n",
       "      <td>2</td>\n",
       "      <td>yes</td>\n",
       "      <td>yes</td>\n",
       "      <td>yes</td>\n",
       "      <td>no</td>\n",
       "      <td>yes</td>\n",
       "      <td>2</td>\n",
       "      <td>no</td>\n",
       "      <td>furnished</td>\n",
       "    </tr>\n",
       "  </tbody>\n",
       "</table>\n",
       "</div>"
      ],
      "text/plain": [
       "     Id     price  area  bedrooms  bathrooms  stories mainroad guestroom  \\\n",
       "0  1001  13300000  7420         4          2        3      yes        no   \n",
       "1  1002  12250000  8960         4          4        4      yes        no   \n",
       "2  1003  12250000  9960         3          2        2      yes        no   \n",
       "3  1004  12215000  7500         4          2        2      yes        no   \n",
       "4  1005  11410000  7420         4          1        2      yes       yes   \n",
       "\n",
       "  basement hotwaterheating airconditioning  parking prefarea furnishingstatus  \n",
       "0       no              no             yes        2      yes        furnished  \n",
       "1       no              no             yes        3       no        furnished  \n",
       "2      yes              no              no        2      yes   semi-furnished  \n",
       "3      yes              no             yes        3      yes        furnished  \n",
       "4      yes              no             yes        2       no        furnished  "
      ]
     },
     "execution_count": 24,
     "metadata": {},
     "output_type": "execute_result"
    }
   ],
   "source": [
    "df.head()"
   ]
  },
  {
   "cell_type": "code",
   "execution_count": 25,
   "id": "513f4a46",
   "metadata": {},
   "outputs": [
    {
     "name": "stdout",
     "output_type": "stream",
     "text": [
      "<class 'pandas.core.frame.DataFrame'>\n",
      "RangeIndex: 545 entries, 0 to 544\n",
      "Data columns (total 14 columns):\n",
      " #   Column            Non-Null Count  Dtype \n",
      "---  ------            --------------  ----- \n",
      " 0   Id                545 non-null    int64 \n",
      " 1   price             545 non-null    int64 \n",
      " 2   area              545 non-null    int64 \n",
      " 3   bedrooms          545 non-null    int64 \n",
      " 4   bathrooms         545 non-null    int64 \n",
      " 5   stories           545 non-null    int64 \n",
      " 6   mainroad          545 non-null    object\n",
      " 7   guestroom         545 non-null    object\n",
      " 8   basement          545 non-null    object\n",
      " 9   hotwaterheating   545 non-null    object\n",
      " 10  airconditioning   545 non-null    object\n",
      " 11  parking           545 non-null    int64 \n",
      " 12  prefarea          545 non-null    object\n",
      " 13  furnishingstatus  545 non-null    object\n",
      "dtypes: int64(7), object(7)\n",
      "memory usage: 59.7+ KB\n"
     ]
    }
   ],
   "source": [
    "df.info()"
   ]
  },
  {
   "cell_type": "code",
   "execution_count": 26,
   "id": "61cbba85",
   "metadata": {
    "scrolled": true
   },
   "outputs": [
    {
     "data": {
      "text/html": [
       "<div>\n",
       "<style scoped>\n",
       "    .dataframe tbody tr th:only-of-type {\n",
       "        vertical-align: middle;\n",
       "    }\n",
       "\n",
       "    .dataframe tbody tr th {\n",
       "        vertical-align: top;\n",
       "    }\n",
       "\n",
       "    .dataframe thead th {\n",
       "        text-align: right;\n",
       "    }\n",
       "</style>\n",
       "<table border=\"1\" class=\"dataframe\">\n",
       "  <thead>\n",
       "    <tr style=\"text-align: right;\">\n",
       "      <th></th>\n",
       "      <th>Id</th>\n",
       "      <th>price</th>\n",
       "      <th>area</th>\n",
       "      <th>bedrooms</th>\n",
       "      <th>bathrooms</th>\n",
       "      <th>stories</th>\n",
       "      <th>parking</th>\n",
       "    </tr>\n",
       "  </thead>\n",
       "  <tbody>\n",
       "    <tr>\n",
       "      <th>count</th>\n",
       "      <td>545.00000</td>\n",
       "      <td>5.450000e+02</td>\n",
       "      <td>545.000000</td>\n",
       "      <td>545.000000</td>\n",
       "      <td>545.000000</td>\n",
       "      <td>545.000000</td>\n",
       "      <td>545.000000</td>\n",
       "    </tr>\n",
       "    <tr>\n",
       "      <th>mean</th>\n",
       "      <td>1273.00000</td>\n",
       "      <td>4.766729e+06</td>\n",
       "      <td>5150.541284</td>\n",
       "      <td>2.965138</td>\n",
       "      <td>1.286239</td>\n",
       "      <td>1.805505</td>\n",
       "      <td>0.693578</td>\n",
       "    </tr>\n",
       "    <tr>\n",
       "      <th>std</th>\n",
       "      <td>157.47222</td>\n",
       "      <td>1.870440e+06</td>\n",
       "      <td>2170.141023</td>\n",
       "      <td>0.738064</td>\n",
       "      <td>0.502470</td>\n",
       "      <td>0.867492</td>\n",
       "      <td>0.861586</td>\n",
       "    </tr>\n",
       "    <tr>\n",
       "      <th>min</th>\n",
       "      <td>1001.00000</td>\n",
       "      <td>1.750000e+06</td>\n",
       "      <td>1650.000000</td>\n",
       "      <td>1.000000</td>\n",
       "      <td>1.000000</td>\n",
       "      <td>1.000000</td>\n",
       "      <td>0.000000</td>\n",
       "    </tr>\n",
       "    <tr>\n",
       "      <th>25%</th>\n",
       "      <td>1137.00000</td>\n",
       "      <td>3.430000e+06</td>\n",
       "      <td>3600.000000</td>\n",
       "      <td>2.000000</td>\n",
       "      <td>1.000000</td>\n",
       "      <td>1.000000</td>\n",
       "      <td>0.000000</td>\n",
       "    </tr>\n",
       "    <tr>\n",
       "      <th>50%</th>\n",
       "      <td>1273.00000</td>\n",
       "      <td>4.340000e+06</td>\n",
       "      <td>4600.000000</td>\n",
       "      <td>3.000000</td>\n",
       "      <td>1.000000</td>\n",
       "      <td>2.000000</td>\n",
       "      <td>0.000000</td>\n",
       "    </tr>\n",
       "    <tr>\n",
       "      <th>75%</th>\n",
       "      <td>1409.00000</td>\n",
       "      <td>5.740000e+06</td>\n",
       "      <td>6360.000000</td>\n",
       "      <td>3.000000</td>\n",
       "      <td>2.000000</td>\n",
       "      <td>2.000000</td>\n",
       "      <td>1.000000</td>\n",
       "    </tr>\n",
       "    <tr>\n",
       "      <th>max</th>\n",
       "      <td>1545.00000</td>\n",
       "      <td>1.330000e+07</td>\n",
       "      <td>16200.000000</td>\n",
       "      <td>6.000000</td>\n",
       "      <td>4.000000</td>\n",
       "      <td>4.000000</td>\n",
       "      <td>3.000000</td>\n",
       "    </tr>\n",
       "  </tbody>\n",
       "</table>\n",
       "</div>"
      ],
      "text/plain": [
       "               Id         price          area    bedrooms   bathrooms  \\\n",
       "count   545.00000  5.450000e+02    545.000000  545.000000  545.000000   \n",
       "mean   1273.00000  4.766729e+06   5150.541284    2.965138    1.286239   \n",
       "std     157.47222  1.870440e+06   2170.141023    0.738064    0.502470   \n",
       "min    1001.00000  1.750000e+06   1650.000000    1.000000    1.000000   \n",
       "25%    1137.00000  3.430000e+06   3600.000000    2.000000    1.000000   \n",
       "50%    1273.00000  4.340000e+06   4600.000000    3.000000    1.000000   \n",
       "75%    1409.00000  5.740000e+06   6360.000000    3.000000    2.000000   \n",
       "max    1545.00000  1.330000e+07  16200.000000    6.000000    4.000000   \n",
       "\n",
       "          stories     parking  \n",
       "count  545.000000  545.000000  \n",
       "mean     1.805505    0.693578  \n",
       "std      0.867492    0.861586  \n",
       "min      1.000000    0.000000  \n",
       "25%      1.000000    0.000000  \n",
       "50%      2.000000    0.000000  \n",
       "75%      2.000000    1.000000  \n",
       "max      4.000000    3.000000  "
      ]
     },
     "execution_count": 26,
     "metadata": {},
     "output_type": "execute_result"
    }
   ],
   "source": [
    "df.describe()"
   ]
  },
  {
   "cell_type": "code",
   "execution_count": 27,
   "id": "4aeb8643",
   "metadata": {},
   "outputs": [
    {
     "name": "stdout",
     "output_type": "stream",
     "text": [
      "       Id     price  area  bedrooms  bathrooms  stories  mainroad  guestroom  \\\n",
      "0    1001  13300000  7420         4          2        3         1          0   \n",
      "1    1002  12250000  8960         4          4        4         1          0   \n",
      "2    1003  12250000  9960         3          2        2         1          0   \n",
      "3    1004  12215000  7500         4          2        2         1          0   \n",
      "4    1005  11410000  7420         4          1        2         1          1   \n",
      "..    ...       ...   ...       ...        ...      ...       ...        ...   \n",
      "540  1541   1820000  3000         2          1        1         1          0   \n",
      "541  1542   1767150  2400         3          1        1         0          0   \n",
      "542  1543   1750000  3620         2          1        1         1          0   \n",
      "543  1544   1750000  2910         3          1        1         0          0   \n",
      "544  1545   1750000  3850         3          1        2         1          0   \n",
      "\n",
      "     basement  hotwaterheating  airconditioning  parking  prefarea  \\\n",
      "0           0                0                1        2         1   \n",
      "1           0                0                1        3         0   \n",
      "2           1                0                0        2         1   \n",
      "3           1                0                1        3         1   \n",
      "4           1                0                1        2         0   \n",
      "..        ...              ...              ...      ...       ...   \n",
      "540         1                0                0        2         0   \n",
      "541         0                0                0        0         0   \n",
      "542         0                0                0        0         0   \n",
      "543         0                0                0        0         0   \n",
      "544         0                0                0        0         0   \n",
      "\n",
      "     furnishingstatus  \n",
      "0                   0  \n",
      "1                   0  \n",
      "2                   1  \n",
      "3                   0  \n",
      "4                   0  \n",
      "..                ...  \n",
      "540                 2  \n",
      "541                 1  \n",
      "542                 2  \n",
      "543                 0  \n",
      "544                 2  \n",
      "\n",
      "[545 rows x 14 columns]\n"
     ]
    }
   ],
   "source": [
    "# Covert String data to numerical data \n",
    "\n",
    "df['mainroad'].replace(['yes', 'no'], [1, 0], inplace=True)\n",
    "df['guestroom'].replace(['yes', 'no'], [1, 0], inplace=True)\n",
    "df['basement'].replace(['yes', 'no'], [1, 0], inplace=True)\n",
    "df['hotwaterheating'].replace(['yes', 'no'], [1, 0], inplace=True)\n",
    "df['airconditioning'].replace(['yes', 'no'], [1, 0], inplace=True)\n",
    "df['prefarea'].replace(['yes', 'no'], [1, 0], inplace=True)\n",
    "df['furnishingstatus'].replace(['furnished', 'semi-furnished', 'unfurnished'], [0,1,2], inplace=True)\n",
    "print(df)"
   ]
  },
  {
   "cell_type": "code",
   "execution_count": 28,
   "id": "d4b46fc8",
   "metadata": {},
   "outputs": [
    {
     "data": {
      "text/plain": [
       "Index(['Id', 'price', 'area', 'bedrooms', 'bathrooms', 'stories', 'mainroad',\n",
       "       'guestroom', 'basement', 'hotwaterheating', 'airconditioning',\n",
       "       'parking', 'prefarea', 'furnishingstatus'],\n",
       "      dtype='object')"
      ]
     },
     "execution_count": 28,
     "metadata": {},
     "output_type": "execute_result"
    }
   ],
   "source": [
    "df.columns"
   ]
  },
  {
   "cell_type": "code",
   "execution_count": 29,
   "id": "039d59dd",
   "metadata": {},
   "outputs": [],
   "source": [
    "# Split the data into train and test data\n",
    "\n",
    "y= df['price']\n",
    "x= df[['area', 'bedrooms', 'bathrooms', 'stories', 'mainroad','guestroom', 'basement', 'hotwaterheating', \n",
    "       'airconditioning', 'parking', 'prefarea', 'furnishingstatus']]\n",
    "x_train, x_test, y_train, y_test= train_test_split(x,y, test_size= 0.2)"
   ]
  },
  {
   "cell_type": "code",
   "execution_count": 30,
   "id": "2612bf78",
   "metadata": {},
   "outputs": [
    {
     "data": {
      "text/html": [
       "<style>#sk-container-id-2 {color: black;}#sk-container-id-2 pre{padding: 0;}#sk-container-id-2 div.sk-toggleable {background-color: white;}#sk-container-id-2 label.sk-toggleable__label {cursor: pointer;display: block;width: 100%;margin-bottom: 0;padding: 0.3em;box-sizing: border-box;text-align: center;}#sk-container-id-2 label.sk-toggleable__label-arrow:before {content: \"▸\";float: left;margin-right: 0.25em;color: #696969;}#sk-container-id-2 label.sk-toggleable__label-arrow:hover:before {color: black;}#sk-container-id-2 div.sk-estimator:hover label.sk-toggleable__label-arrow:before {color: black;}#sk-container-id-2 div.sk-toggleable__content {max-height: 0;max-width: 0;overflow: hidden;text-align: left;background-color: #f0f8ff;}#sk-container-id-2 div.sk-toggleable__content pre {margin: 0.2em;color: black;border-radius: 0.25em;background-color: #f0f8ff;}#sk-container-id-2 input.sk-toggleable__control:checked~div.sk-toggleable__content {max-height: 200px;max-width: 100%;overflow: auto;}#sk-container-id-2 input.sk-toggleable__control:checked~label.sk-toggleable__label-arrow:before {content: \"▾\";}#sk-container-id-2 div.sk-estimator input.sk-toggleable__control:checked~label.sk-toggleable__label {background-color: #d4ebff;}#sk-container-id-2 div.sk-label input.sk-toggleable__control:checked~label.sk-toggleable__label {background-color: #d4ebff;}#sk-container-id-2 input.sk-hidden--visually {border: 0;clip: rect(1px 1px 1px 1px);clip: rect(1px, 1px, 1px, 1px);height: 1px;margin: -1px;overflow: hidden;padding: 0;position: absolute;width: 1px;}#sk-container-id-2 div.sk-estimator {font-family: monospace;background-color: #f0f8ff;border: 1px dotted black;border-radius: 0.25em;box-sizing: border-box;margin-bottom: 0.5em;}#sk-container-id-2 div.sk-estimator:hover {background-color: #d4ebff;}#sk-container-id-2 div.sk-parallel-item::after {content: \"\";width: 100%;border-bottom: 1px solid gray;flex-grow: 1;}#sk-container-id-2 div.sk-label:hover label.sk-toggleable__label {background-color: #d4ebff;}#sk-container-id-2 div.sk-serial::before {content: \"\";position: absolute;border-left: 1px solid gray;box-sizing: border-box;top: 0;bottom: 0;left: 50%;z-index: 0;}#sk-container-id-2 div.sk-serial {display: flex;flex-direction: column;align-items: center;background-color: white;padding-right: 0.2em;padding-left: 0.2em;position: relative;}#sk-container-id-2 div.sk-item {position: relative;z-index: 1;}#sk-container-id-2 div.sk-parallel {display: flex;align-items: stretch;justify-content: center;background-color: white;position: relative;}#sk-container-id-2 div.sk-item::before, #sk-container-id-2 div.sk-parallel-item::before {content: \"\";position: absolute;border-left: 1px solid gray;box-sizing: border-box;top: 0;bottom: 0;left: 50%;z-index: -1;}#sk-container-id-2 div.sk-parallel-item {display: flex;flex-direction: column;z-index: 1;position: relative;background-color: white;}#sk-container-id-2 div.sk-parallel-item:first-child::after {align-self: flex-end;width: 50%;}#sk-container-id-2 div.sk-parallel-item:last-child::after {align-self: flex-start;width: 50%;}#sk-container-id-2 div.sk-parallel-item:only-child::after {width: 0;}#sk-container-id-2 div.sk-dashed-wrapped {border: 1px dashed gray;margin: 0 0.4em 0.5em 0.4em;box-sizing: border-box;padding-bottom: 0.4em;background-color: white;}#sk-container-id-2 div.sk-label label {font-family: monospace;font-weight: bold;display: inline-block;line-height: 1.2em;}#sk-container-id-2 div.sk-label-container {text-align: center;}#sk-container-id-2 div.sk-container {/* jupyter's `normalize.less` sets `[hidden] { display: none; }` but bootstrap.min.css set `[hidden] { display: none !important; }` so we also need the `!important` here to be able to override the default hidden behavior on the sphinx rendered scikit-learn.org. See: https://github.com/scikit-learn/scikit-learn/issues/21755 */display: inline-block !important;position: relative;}#sk-container-id-2 div.sk-text-repr-fallback {display: none;}</style><div id=\"sk-container-id-2\" class=\"sk-top-container\"><div class=\"sk-text-repr-fallback\"><pre>LinearRegression()</pre><b>In a Jupyter environment, please rerun this cell to show the HTML representation or trust the notebook. <br />On GitHub, the HTML representation is unable to render, please try loading this page with nbviewer.org.</b></div><div class=\"sk-container\" hidden><div class=\"sk-item\"><div class=\"sk-estimator sk-toggleable\"><input class=\"sk-toggleable__control sk-hidden--visually\" id=\"sk-estimator-id-2\" type=\"checkbox\" checked><label for=\"sk-estimator-id-2\" class=\"sk-toggleable__label sk-toggleable__label-arrow\">LinearRegression</label><div class=\"sk-toggleable__content\"><pre>LinearRegression()</pre></div></div></div></div></div>"
      ],
      "text/plain": [
       "LinearRegression()"
      ]
     },
     "execution_count": 30,
     "metadata": {},
     "output_type": "execute_result"
    }
   ],
   "source": [
    "#model training\n",
    "\n",
    "Ln = LinearRegression()\n",
    "Ln.fit(x_train, y_train)"
   ]
  },
  {
   "cell_type": "code",
   "execution_count": 31,
   "id": "de2c5165",
   "metadata": {},
   "outputs": [
    {
     "name": "stdout",
     "output_type": "stream",
     "text": [
      "[3858637.72670965 5440273.37754705 3771370.96940849 2695980.35858761\n",
      " 2847752.69436719 6416220.46730247 5176007.06585782 4251811.69671306\n",
      " 4980745.4631782  5481540.04829698 3477309.33946041 7833701.48616524\n",
      " 2868932.42757889 4947185.55733449 6189723.46475423 6048322.01855098\n",
      " 5761305.4617022  6142333.81299324 4120993.12452398 4214297.663622\n",
      " 6923353.66313017 4126812.98153276 2547926.33413357 3914028.74912438\n",
      " 5348224.13078879 3119837.0551282  4257806.43767753 4150402.44251336\n",
      " 7819325.52136365 6026078.92079413 5701359.68141998 4972799.6146533\n",
      " 5180226.12500745 4417037.73686069 7290548.37738117 3145450.36522302\n",
      " 2562003.72199437 6915031.66063948 5844244.51876377 2983540.07030318\n",
      " 6583412.82799314 2753213.11601032 6709642.11092547 7677373.98125106\n",
      " 3884568.68863092 5370844.05838626 4437789.707375   5618328.11750137\n",
      " 3441090.64710527 3174781.45037889 5241292.01661715 6327494.956762\n",
      " 3913224.18375903 3648966.09059799 2604110.08496299 4849604.57709303\n",
      " 5314679.84919589 4343957.37045535 2803430.96339275 5094146.55161491\n",
      " 2661405.74269258 6558956.85829684 5416497.99594228 2774387.16263648\n",
      " 4917582.74072376 3653884.77086988 7564934.58242281 5535720.97290307\n",
      " 4706764.82560806 5133544.16551467 3834246.41981107 6815831.37631867\n",
      " 5056763.4477     2914285.54927836 3254913.07787441 7294585.01970554\n",
      " 3258334.7039152  3665122.32093947 3450882.14639444 2860945.21711984\n",
      " 4517454.46761022 7313977.70460684 6327132.27835325 2056404.41904192\n",
      " 7973234.9594781  7101982.25779345 6353271.80605132 4113657.09890696\n",
      " 6728571.13278751 5455158.79878948 5151292.99106267 6781213.24113435\n",
      " 3213596.60312347 5479132.23719488 7330670.02997631 6211497.13210001\n",
      " 4634802.55025286 4831605.37637995 5246023.87299177 6028444.47851893\n",
      " 2824767.91895408 3238557.19743082 5540664.49020808 4505469.30484077\n",
      " 5499521.48194028 3668967.9877164  4696782.99335299 9383780.41079086\n",
      " 3019625.08057395]\n",
      "450     3150000\n",
      "60      7140000\n",
      "442     3220000\n",
      "465     3045000\n",
      "479     2940000\n",
      "         ...   \n",
      "173     5250000\n",
      "540     1820000\n",
      "146     5600000\n",
      "6      10150000\n",
      "503     2660000\n",
      "Name: price, Length: 109, dtype: int64\n"
     ]
    }
   ],
   "source": [
    "# Predict the output fot the test data using the fitted model\n",
    "\n",
    "y_pred= Ln.predict(x_test)\n",
    "print(y_pred)\n",
    "print(y_test)"
   ]
  },
  {
   "cell_type": "code",
   "execution_count": 32,
   "id": "f567ccf0",
   "metadata": {},
   "outputs": [
    {
     "name": "stdout",
     "output_type": "stream",
     "text": [
      "Coefficient of determination: 0.675\n"
     ]
    }
   ],
   "source": [
    "# Determine the performance of the model using r2_score metric\n",
    "\n",
    "print('Coefficient of determination: %.3f' % r2_score(y_test, y_pred))"
   ]
  },
  {
   "cell_type": "code",
   "execution_count": 33,
   "id": "b17ac41d",
   "metadata": {},
   "outputs": [
    {
     "data": {
      "text/plain": [
       "<matplotlib.collections.PathCollection at 0x18dc5b90ac0>"
      ]
     },
     "execution_count": 33,
     "metadata": {},
     "output_type": "execute_result"
    },
    {
     "data": {
      "image/png": "[encoded data removed]",
      "text/plain": [
       "<Figure size 640x480 with 1 Axes>"
      ]
     },
     "metadata": {},
     "output_type": "display_data"
    }
   ],
   "source": [
    "plt.scatter(y_test, y_pred)"
   ]
  },
  {
   "cell_type": "code",
   "execution_count": null,
   "id": "199395dd",
   "metadata": {},
   "outputs": [],
   "source": []
  }
 ],
 "metadata": {
  "kernelspec": {
   "display_name": "Python 3 (ipykernel)",
   "language": "python",
   "name": "python3"
  },
  "language_info": {
   "codemirror_mode": {
    "name": "ipython",
    "version": 3
   },
   "file_extension": ".py",
   "mimetype": "text/x-python",
   "name": "python",
   "nbconvert_exporter": "python",
   "pygments_lexer": "ipython3",
   "version": "3.10.10"
  }
 },
 "nbformat": 4,
 "nbformat_minor": 5
}
